{
 "cells": [
  {
   "cell_type": "code",
   "execution_count": 1,
   "id": "ec296056",
   "metadata": {},
   "outputs": [],
   "source": [
    "import itertools\n",
    "import subprocess\n",
    "from collections import defaultdict\n",
    "import math\n",
    "import time"
   ]
  },
  {
   "cell_type": "code",
   "execution_count": 2,
   "id": "bede5a2b",
   "metadata": {},
   "outputs": [],
   "source": [
    "var_dict = {}\n",
    "rev_dict = {}\n",
    "last_id = 1\n",
    "product_num = 0"
   ]
  },
  {
   "cell_type": "code",
   "execution_count": 3,
   "id": "5041ed1d",
   "metadata": {},
   "outputs": [],
   "source": [
    "def parse_edge_string(edge_string):\n",
    "    edge_string = edge_string.strip().strip(\"e_{\").strip(\"}\")\n",
    "    i, j = map(int, edge_string.split(\",\"))\n",
    "    return (i, j)"
   ]
  },
  {
   "cell_type": "code",
   "execution_count": 4,
   "id": "cef1a381",
   "metadata": {},
   "outputs": [],
   "source": [
    "def add_var_id(x, old_id=None):\n",
    "    global last_id, var_dict, rev_dict\n",
    "    xlast_id = 'x' + str(last_id)\n",
    "    if old_id != None:\n",
    "        var_dict[x] = old_id\n",
    "        return\n",
    "    var_dict[x] = xlast_id\n",
    "    x = x + '}'\n",
    "    x = x[0] + '_{' + x[1:]\n",
    "    rev_dict[xlast_id] = x\n",
    "    rev_dict['-' + xlast_id] = x\n",
    "    last_id += 1\n",
    "    return xlast_id"
   ]
  },
  {
   "cell_type": "code",
   "execution_count": 5,
   "id": "13f73ad6",
   "metadata": {},
   "outputs": [],
   "source": [
    "def srg(n, K, la, mu):\n",
    "    global product_num\n",
    "    clauses = []\n",
    "    \n",
    "    for i, j in itertools.combinations(range(n), 2):\n",
    "        edge_id = add_var_id(f\"e{i},{j}\")\n",
    "        add_var_id(f\"e{j},{i}\", edge_id)\n",
    "    \n",
    "    for i in range(n):\n",
    "        for j in range(i + 1, n):\n",
    "            edge = var_dict[f\"e{i},{j}\"]\n",
    "            la_clause = f\"-{la} {edge}\"\n",
    "            mu_clause = f\"+{mu} {edge}\"\n",
    "            for k in range(n):\n",
    "                if k == i or k == j:\n",
    "                    continue\n",
    "                edge_1 = var_dict[f\"e{i},{k}\"]\n",
    "                edge_2 = var_dict[f\"e{k},{j}\"]\n",
    "                la_clause = la_clause + f\" +1 {edge} {edge_1} {edge_2}\"\n",
    "                product_num += 1\n",
    "                mu_clause = mu_clause + f\" +1 {edge_1} {edge_2} -1 {edge} {edge_1} {edge_2}\"\n",
    "                product_num += 1\n",
    "            la_clause += f\" = 0\"\n",
    "            mu_clause += f\" = {mu}\"\n",
    "            clauses.append(la_clause)\n",
    "            clauses.append(mu_clause)\n",
    "    \n",
    "#     regularity\n",
    "    for i in range(n):\n",
    "        clause = \"\"\n",
    "        for j in range(n):\n",
    "            if j == i:\n",
    "                continue\n",
    "            e = var_dict[f\"e{i},{j}\"]\n",
    "            clause = clause + f\"+1 {e} \"\n",
    "        clause = clause + f\"= {K}\"\n",
    "        clauses.append(clause)\n",
    "    \n",
    "    return clauses"
   ]
  },
  {
   "cell_type": "code",
   "execution_count": 6,
   "id": "ce499c39",
   "metadata": {},
   "outputs": [],
   "source": [
    "def clause_to_opb(clauses):\n",
    "    pb_str = f\"* #variable= {last_id - 1} #constraint= {len(clauses)} #product= {product_num} sizeproduct= {last_id - 1}\\nmin: ;\\n\"\n",
    "    print(last_id - 1, len(clauses))\n",
    "    pb_str = pb_str + ';\\n'.join(clauses) + ';\\n'\n",
    "    with open(f'srg_to_nonlinear_pseudoboolean_regularity_lambda_mu/{N}K{K}L{LAMBDA}M{MU}.opb', 'w') as f:\n",
    "        f.write(pb_str)\n",
    "    print(\"should be done ...\")\n",
    "    return pb_str"
   ]
  },
  {
   "cell_type": "code",
   "execution_count": 7,
   "id": "2af378d6",
   "metadata": {},
   "outputs": [
    {
     "name": "stdout",
     "output_type": "stream",
     "text": [
      "351 729\n",
      "should be done ...\n"
     ]
    }
   ],
   "source": [
    "N, K, LAMBDA, MU = int(sys.argv[1]), int(sys.argv[2]), int(sys.argv[3]), int(sys.argv[4])\n",
    "c = srg(N,K, LAMBDA, MU)\n",
    "opb_file = clause_to_opb(c)"
   ]
  },
  {
   "cell_type": "code",
   "execution_count": null,
   "id": "18fd37ea",
   "metadata": {},
   "outputs": [],
   "source": []
  }
 ],
 "metadata": {
  "kernelspec": {
   "display_name": "Python 3 (ipykernel)",
   "language": "python",
   "name": "python3"
  },
  "language_info": {
   "codemirror_mode": {
    "name": "ipython",
    "version": 3
   },
   "file_extension": ".py",
   "mimetype": "text/x-python",
   "name": "python",
   "nbconvert_exporter": "python",
   "pygments_lexer": "ipython3",
   "version": "3.10.11"
  }
 },
 "nbformat": 4,
 "nbformat_minor": 5
}
