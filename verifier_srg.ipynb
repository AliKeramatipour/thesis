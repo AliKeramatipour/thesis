{
 "cells": [
  {
   "cell_type": "code",
   "execution_count": null,
   "id": "db7b4d56",
   "metadata": {},
   "outputs": [],
   "source": [
    "import itertools\n",
    "import subprocess\n",
    "from collections import defaultdict\n",
    "import math\n",
    "import time"
   ]
  },
  {
   "cell_type": "code",
   "execution_count": null,
   "id": "53345394",
   "metadata": {},
   "outputs": [],
   "source": [
    "var_dict = {}\n",
    "rev_dict = {}\n",
    "last_id = 1\n",
    "product_num = 0"
   ]
  },
  {
   "cell_type": "code",
   "execution_count": null,
   "id": "6d486b72",
   "metadata": {},
   "outputs": [],
   "source": [
    "def parse_edge_string(edge_string):\n",
    "    edge_string = edge_string.strip().strip(\"e_{\").strip(\"}\")\n",
    "    i, j = map(int, edge_string.split(\",\"))\n",
    "    return (i, j)"
   ]
  },
  {
   "cell_type": "code",
   "execution_count": null,
   "id": "0dc50278",
   "metadata": {},
   "outputs": [],
   "source": [
    "def add_var_id(x, old_id=None):\n",
    "    global last_id, var_dict, rev_dict\n",
    "    xlast_id = 'x' + str(last_id)\n",
    "    if old_id != None:\n",
    "        var_dict[x] = old_id\n",
    "        return\n",
    "    var_dict[x] = xlast_id\n",
    "    x = x + '}'\n",
    "    x = x[0] + '_{' + x[1:]\n",
    "    rev_dict[xlast_id] = x\n",
    "    rev_dict['-' + xlast_id] = x\n",
    "    last_id += 1\n",
    "    return xlast_id"
   ]
  },
  {
   "cell_type": "code",
   "execution_count": null,
   "id": "f5cb2e3f",
   "metadata": {},
   "outputs": [],
   "source": [
    "def srg(n, K, la, mu):\n",
    "    global product_num\n",
    "    clauses = []\n",
    "    \n",
    "    for i, j in itertools.combinations(range(n), 2):\n",
    "        edge_id = add_var_id(f\"e{i},{j}\")\n",
    "        add_var_id(f\"e{j},{i}\", edge_id)\n",
    "    \n",
    "    for i in range(n):\n",
    "        for j in range(i + 1, n):\n",
    "            edge = var_dict[f\"e{i},{j}\"]\n",
    "            la_clause = f\"-{la} {edge}\"\n",
    "            mu_clause = f\"+{mu} {edge}\"\n",
    "            for k in range(n):\n",
    "                if k == i or k == j:\n",
    "                    continue\n",
    "                edge_1 = var_dict[f\"e{i},{k}\"]\n",
    "                edge_2 = var_dict[f\"e{k},{j}\"]\n",
    "                la_clause = la_clause + f\" +1 {edge} {edge_1} {edge_2}\"\n",
    "                product_num += 1\n",
    "                mu_clause = mu_clause + f\" +1 {edge_1} {edge_2} -1 {edge} {edge_1} {edge_2}\"\n",
    "                product_num += 1\n",
    "            la_clause += f\" = 0\"\n",
    "            mu_clause += f\" = {mu}\"\n",
    "            clauses.append(la_clause)\n",
    "            clauses.append(mu_clause)\n",
    "    \n",
    "#     regularity\n",
    "    for i in range(n):\n",
    "        clause = \"\"\n",
    "        for j in range(n):\n",
    "            if j == i:\n",
    "                continue\n",
    "            e = var_dict[f\"e{i},{j}\"]\n",
    "            clause = clause + f\"+1 {e} \"\n",
    "        clause = clause + f\"= {K}\"\n",
    "        clauses.append(clause)\n",
    "    \n",
    "    return clauses"
   ]
  },
  {
   "cell_type": "code",
   "execution_count": null,
   "id": "39e71944",
   "metadata": {},
   "outputs": [],
   "source": [
    "def parse_clasp_output(output):\n",
    "    lines = output.strip().split(\"\\n\")\n",
    "    solution = []\n",
    "    for line in lines:\n",
    "        if line.startswith(\"v\"):\n",
    "            variables = line[2:].split()\n",
    "            for var in variables:\n",
    "                solution.append(var)\n",
    "    return solution"
   ]
  },
  {
   "cell_type": "code",
   "execution_count": null,
   "id": "fc782a1b",
   "metadata": {},
   "outputs": [],
   "source": [
    "srg_string = \"5K2L0M1\"\n",
    "N, K, LAMBDA, MU = map(int, srg_string.replace(\"K\", \" \").replace(\"L\", \" \").replace(\"M\", \" \").split())\n",
    "c = srg(N,K, LAMBDA, MU)\n",
    "file = open(f\"solutions/{N}K{K}L{LAMBDA}M{MU}.txt\", 'r')\n",
    "output = file.read()\n",
    "solution = parse_clasp_output(output)\n",
    "edges_list = []\n",
    "if len(solution) == 0:\n",
    "    print(\"UNSATISFIABLE\")\n",
    "else:\n",
    "    for var in solution:\n",
    "        if var.startswith('x'):\n",
    "            res = rev_dict[var]\n",
    "            if res.startswith('e'):\n",
    "                edges_list.append(parse_edge_string(res))"
   ]
  },
  {
   "cell_type": "code",
   "execution_count": null,
   "id": "63cae82c",
   "metadata": {},
   "outputs": [],
   "source": [
    "def check_srg(N, K, LAMBDA, MU, edges_list):\n",
    "    # Build adjacency list and count degrees\n",
    "    adjacency_list = defaultdict(set)\n",
    "    degrees = defaultdict(int)\n",
    "    for u, v in edges_list:\n",
    "        adjacency_list[u].add(v)\n",
    "        adjacency_list[v].add(u)\n",
    "        degrees[u] += 1\n",
    "        degrees[v] += 1\n",
    "\n",
    "    if not all(degree == K for degree in degrees.values()):\n",
    "        return False\n",
    "\n",
    "    for u, v in edges_list:\n",
    "        common_neighbors = adjacency_list[u] & adjacency_list[v]\n",
    "        if len(common_neighbors) != LAMBDA:\n",
    "            return False\n",
    "    for u in range(N):\n",
    "        for v in range(u + 1, N):\n",
    "            if (u, v) not in edges_list and (v, u) not in edges_list:\n",
    "                common_neighbors = adjacency_list[u] & adjacency_list[v]\n",
    "                if len(common_neighbors) != MU:\n",
    "                    return False\n",
    "\n",
    "    return True"
   ]
  },
  {
   "cell_type": "code",
   "execution_count": null,
   "id": "a96437ab",
   "metadata": {},
   "outputs": [],
   "source": [
    "def graph_to_txt(n, edges):\n",
    "    row_strings = []\n",
    "    for i in range(n):\n",
    "        row = [\"0\" if (i, j) not in edges and (j, i) not in edges else \"1\" for j in range(n)]\n",
    "        row_strings.append(\"\".join(row))\n",
    "    csv_content = \"\\n\".join(row_strings)\n",
    "    with open(f\"srgs_txts/srgN{N}K{K}L{LAMBDA}M{MU}.txt\", \"w\") as file:\n",
    "        file.write(csv_content)"
   ]
  },
  {
   "cell_type": "code",
   "execution_count": null,
   "id": "0b0c1af0",
   "metadata": {},
   "outputs": [],
   "source": [
    "if check_srg(N, K, LAMBDA, MU, edges_list):\n",
    "    print(\"Result is strongly regular\")\n",
    "    graph_to_txt(N, edges_list)\n",
    "else:\n",
    "    print(\"wrong\")"
   ]
  }
 ],
 "metadata": {
  "kernelspec": {
   "display_name": "Python 3 (ipykernel)",
   "language": "python",
   "name": "python3"
  },
  "language_info": {
   "codemirror_mode": {
    "name": "ipython",
    "version": 3
   },
   "file_extension": ".py",
   "mimetype": "text/x-python",
   "name": "python",
   "nbconvert_exporter": "python",
   "pygments_lexer": "ipython3",
   "version": "3.10.11"
  }
 },
 "nbformat": 4,
 "nbformat_minor": 5
}
