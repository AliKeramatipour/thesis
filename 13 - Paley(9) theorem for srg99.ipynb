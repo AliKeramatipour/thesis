{
 "cells": [
  {
   "cell_type": "markdown",
   "source": [
    "# Paley9\n",
    "While inferring what edge is connected to what edge for the Paley(9) pattern that we had found in srg 243, I hit a wall but the rest of the inferrence can be done using codes. We can also later increase"
   ],
   "metadata": {
    "collapsed": false
   }
  },
  {
   "cell_type": "code",
   "execution_count": 11,
   "outputs": [],
   "source": [
    "from itertools import combinations\n",
    "from itertools import product"
   ],
   "metadata": {
    "collapsed": false
   }
  },
  {
   "cell_type": "code",
   "execution_count": 12,
   "outputs": [],
   "source": [
    "def add_edge(v,u):\n",
    "    neighbours[v].add(u)\n",
    "    neighbours[u].add(v)\n",
    "    edges.add((u,v))\n",
    "    edges.add((v,u))\n",
    "    check_validity()\n",
    "\n",
    "def check_validity():\n",
    "    for v, u in combinations(vertices, 2):\n",
    "        shared_cnt = len(neighbours[v] & neighbours[u])\n",
    "        if ((u,v) in edges and shared_cnt > 1) or ((u,v) not in edges and shared_cnt > 2):\n",
    "            print(f\" {u} and {v} have led to CONTRADICTION\")\n",
    "            return\n",
    "    return\n",
    "\n",
    "def add_angle(v,u,a):\n",
    "    add_edge(v,a)\n",
    "    add_edge(u,a)\n",
    "\n",
    "def shared_neighbours(u, v):\n",
    "    common_neighbors = set(neighbours[u]) & set(neighbours[v])\n",
    "    return common_neighbors\n",
    "\n",
    "def is_there_an_edge(u, v):\n",
    "    if u in neighbours[v]:\n",
    "        return True\n",
    "    return False"
   ],
   "metadata": {
    "collapsed": false
   }
  },
  {
   "cell_type": "code",
   "execution_count": 13,
   "outputs": [
    {
     "name": "stdout",
     "output_type": "stream",
     "text": [
      "99\n"
     ]
    }
   ],
   "source": [
    "n, k, l, m = 99, 14, 1, 2\n",
    "neighbours = {}\n",
    "edges = set()\n",
    "vertices = set()\n",
    "SRG = [0, 1, 2, 3, 4, (1,3), (1,4), (2,3), (2,4)]\n",
    "for v in SRG:\n",
    "    neighbours[v] = set()\n",
    "    vertices.add(v)\n",
    "    for i in range(5,15):\n",
    "        neighbours[(v,i)] = set()\n",
    "        add_edge(v, (v,i))\n",
    "        vertices.add((v,i))\n",
    "add_edge(0,1)\n",
    "add_edge(0,2)\n",
    "add_edge(0,3)\n",
    "add_edge(0,4)\n",
    "\n",
    "add_edge(1,2)\n",
    "add_edge(1,(1,3))\n",
    "add_edge(1,(1,4))\n",
    "\n",
    "add_edge(2,(2,3))\n",
    "add_edge(2,(2,4))\n",
    "\n",
    "add_edge(2,(2,3))\n",
    "add_edge(2,(2,4))\n",
    "\n",
    "add_edge(3,(2,3))\n",
    "add_edge(3,(1,3))\n",
    "\n",
    "add_edge(4,(2,4))\n",
    "add_edge(4,(1,4))\n",
    "\n",
    "add_edge((1,3),(1,4))\n",
    "add_edge((1,3),(2,3))\n",
    "add_edge((2,3),(2,4))\n",
    "add_edge((1,4),(2,4))\n",
    "\n",
    "print(len(vertices))"
   ],
   "metadata": {
    "collapsed": false
   }
  },
  {
   "cell_type": "code",
   "execution_count": 14,
   "outputs": [],
   "source": [
    "# the edges that we know must exist, 5-6, 7-8, and so on.\n",
    "for i in range(5,15, 2):\n",
    "    add_edge((0,i), (0,i + 1))\n",
    "for i in range(5,15):\n",
    "    add_edge((0,i), (1,i))\n",
    "    add_edge((0,i), (2,i))\n",
    "    add_edge((0,i), (3,i))\n",
    "    add_edge((0,i), (4,i))"
   ],
   "metadata": {
    "collapsed": false
   }
  },
  {
   "cell_type": "code",
   "execution_count": 18,
   "outputs": [
    {
     "name": "stdout",
     "output_type": "stream",
     "text": [
      "wtf\n"
     ]
    }
   ],
   "source": [
    "change_applied = True\n",
    "while change_applied:\n",
    "    change_applied = False\n",
    "    for v in vertices:\n",
    "        for u1, u2, u3, u4 in product(neighbours[v], repeat=4):\n",
    "            if u1 == u3 or u1 == u4 or (u1,u2) not in edges or (u3,u4) not in edges:\n",
    "                continue\n",
    "            u13 = shared_neighbours(u1, u3) - {v}\n",
    "            u14 = shared_neighbours(u1, u4) - {v}\n",
    "            u23 = shared_neighbours(u2, u3) - {v}\n",
    "            u24 = shared_neighbours(u2, u4) - {v}\n",
    "            if len(u13) !=1 or len(u14) != 1 or len(u23) != 1 or len(u24) != 1:\n",
    "                continue\n",
    "            u13 = list(u13)[0]\n",
    "            u23 = list(u23)[0]\n",
    "            u14 = list(u14)[0]\n",
    "            u24 = list(u24)[0]\n",
    "            if (u13,u14) not in edges:\n",
    "                print(f\"{u13} must be connected to {u14}\")\n",
    "                add_edge(u13,u14)\n",
    "                change_applied = True\n",
    "            if (u13,u23) not in edges:\n",
    "                print(f\"{u13} must be connected to {u23}\")\n",
    "                add_edge(u13,u23)\n",
    "                change_applied = True\n",
    "            if (u23,u24) not in edges:\n",
    "                add_edge(u23,u24)\n",
    "                print(f\"{u23} must be connected to {u24}\")\n",
    "                change_applied = True\n",
    "            if (u14,u24) not in edges:\n",
    "                add_edge(u14,u24)\n",
    "                print(f\"{u14} must be connected to {u24}\")\n",
    "                change_applied = True"
   ],
   "metadata": {
    "collapsed": false
   }
  },
  {
   "cell_type": "code",
   "execution_count": 23,
   "outputs": [],
   "source": [
    "for i in range(5,15):\n",
    "    add_edge((1,i), ((1,3),i))\n",
    "for i in range(5,15):\n",
    "    add_edge((1,i), ((1,4),i))\n",
    "for i in range(5,15):\n",
    "    add_edge((2,i), ((2,3),i))\n",
    "for i in range(5,15):\n",
    "    add_edge((2,i), ((2,4),i))"
   ],
   "metadata": {
    "collapsed": false
   }
  },
  {
   "cell_type": "code",
   "execution_count": 25,
   "outputs": [],
   "source": [
    "change_applied = True\n",
    "while change_applied:\n",
    "    change_applied = False\n",
    "    for v in vertices:\n",
    "        for u1, u2, u3, u4 in product(neighbours[v], repeat=4):\n",
    "            if u1 == u3 or u1 == u4 or (u1,u2) not in edges or (u3,u4) not in edges:\n",
    "                continue\n",
    "            u13 = shared_neighbours(u1, u3) - {v}\n",
    "            u14 = shared_neighbours(u1, u4) - {v}\n",
    "            u23 = shared_neighbours(u2, u3) - {v}\n",
    "            u24 = shared_neighbours(u2, u4) - {v}\n",
    "            if len(u13) !=1 or len(u14) != 1 or len(u23) != 1 or len(u24) != 1:\n",
    "                continue\n",
    "            u13 = list(u13)[0]\n",
    "            u23 = list(u23)[0]\n",
    "            u14 = list(u14)[0]\n",
    "            u24 = list(u24)[0]\n",
    "            if (u13,u14) not in edges:\n",
    "                print(f\"{u13} must be connected to {u14}\")\n",
    "                add_edge(u13,u14)\n",
    "                change_applied = True\n",
    "            if (u13,u23) not in edges:\n",
    "                print(f\"{u13} must be connected to {u23}\")\n",
    "                add_edge(u13,u23)\n",
    "                change_applied = True\n",
    "            if (u23,u24) not in edges:\n",
    "                add_edge(u23,u24)\n",
    "                print(f\"{u23} must be connected to {u24}\")\n",
    "                change_applied = True\n",
    "            if (u14,u24) not in edges:\n",
    "                add_edge(u14,u24)\n",
    "                print(f\"{u14} must be connected to {u24}\")\n",
    "                change_applied = True"
   ],
   "metadata": {
    "collapsed": false
   }
  },
  {
   "cell_type": "code",
   "execution_count": 26,
   "outputs": [
    {
     "name": "stdout",
     "output_type": "stream",
     "text": [
      "{0, (3, 8), (3, 14), 4, (3, 7), (3, 10), (2, 3), (3, 13), (3, 9), (3, 6), (3, 12), (1, 3), (3, 5), (3, 11)}\n"
     ]
    }
   ],
   "source": [
    "print(neighbours[3])"
   ],
   "metadata": {
    "collapsed": false
   }
  },
  {
   "cell_type": "code",
   "execution_count": null,
   "outputs": [],
   "source": [],
   "metadata": {
    "collapsed": false
   }
  }
 ],
 "metadata": {
  "kernelspec": {
   "display_name": "Python 3",
   "language": "python",
   "name": "python3"
  },
  "language_info": {
   "codemirror_mode": {
    "name": "ipython",
    "version": 2
   },
   "file_extension": ".py",
   "mimetype": "text/x-python",
   "name": "python",
   "nbconvert_exporter": "python",
   "pygments_lexer": "ipython2",
   "version": "2.7.6"
  }
 },
 "nbformat": 4,
 "nbformat_minor": 0
}
