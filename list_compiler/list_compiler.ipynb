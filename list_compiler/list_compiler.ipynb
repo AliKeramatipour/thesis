{
 "cells": [
  {
   "cell_type": "code",
   "execution_count": 1,
   "id": "067d6227",
   "metadata": {},
   "outputs": [],
   "source": [
    "import csv\n",
    "\n",
    "def process_csv_file(input_file, output_file):\n",
    "    with open(input_file, 'r') as file:\n",
    "        lines = file.readlines()\n",
    "\n",
    "    processed_lines = []\n",
    "    for line in lines:\n",
    "        words = line.split()\n",
    "        words = words[:4]\n",
    "        processed_line = ','.join(words)\n",
    "        processed_lines.append(processed_line)\n",
    "    with open(output_file, 'w') as file:\n",
    "        for line in processed_lines:\n",
    "            file.write(line + '\\n')\n",
    "\n",
    "input_file = 'webInput.csv'\n",
    "output_file = 'srg_list_compilation.csv'\n",
    "process_csv_file(input_file, output_file)"
   ]
  },
  {
   "cell_type": "code",
   "execution_count": null,
   "id": "8fac949a",
   "metadata": {},
   "outputs": [],
   "source": []
  }
 ],
 "metadata": {
  "kernelspec": {
   "display_name": "Python 3 (ipykernel)",
   "language": "python",
   "name": "python3"
  },
  "language_info": {
   "codemirror_mode": {
    "name": "ipython",
    "version": 3
   },
   "file_extension": ".py",
   "mimetype": "text/x-python",
   "name": "python",
   "nbconvert_exporter": "python",
   "pygments_lexer": "ipython3",
   "version": "3.10.11"
  }
 },
 "nbformat": 4,
 "nbformat_minor": 5
}
