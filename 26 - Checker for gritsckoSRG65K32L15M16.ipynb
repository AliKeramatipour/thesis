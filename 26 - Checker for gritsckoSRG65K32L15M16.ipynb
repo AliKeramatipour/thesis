{
 "cells": [
  {
   "cell_type": "code",
   "execution_count": 23,
   "metadata": {
    "collapsed": true
   },
   "outputs": [],
   "source": [
    "filename = \"srgs_csvs/gritsckoSRG65K32L15M16.txt\""
   ]
  },
  {
   "cell_type": "code",
   "execution_count": 24,
   "metadata": {
    "collapsed": false
   },
   "outputs": [],
   "source": [
    "adjacency_matrix = []\n",
    "N = 65\n",
    "\n",
    "with open(filename, 'r') as file:\n",
    "    for line in file:\n",
    "        line = line.strip()\n",
    "        row = [int(char) for char in line] \n",
    "        adjacency_matrix.append(row)\n",
    "for i in range(N):\n",
    "    for j in range(i + 1, N):\n",
    "        row1 = adjacency_matrix[i]\n",
    "        row2 = adjacency_matrix[j]\n",
    "        num_ones = 0\n",
    "        for k in range(len(row1)):\n",
    "            if row1[k] == 1 and row2[k] == 1:\n",
    "                num_ones += 1\n",
    "        if adjacency_matrix[i][j] == 1 and num_ones != 15:\n",
    "            print(\"ERROR\")\n",
    "        if adjacency_matrix[i][j] == 0 and num_ones != 16:\n",
    "            print(\"ERROR\")"
   ]
  }
 ],
 "metadata": {
  "kernelspec": {
   "display_name": "Python 3",
   "language": "python",
   "name": "python3"
  },
  "language_info": {
   "codemirror_mode": {
    "name": "ipython",
    "version": 2
   },
   "file_extension": ".py",
   "mimetype": "text/x-python",
   "name": "python",
   "nbconvert_exporter": "python",
   "pygments_lexer": "ipython2",
   "version": "2.7.6"
  }
 },
 "nbformat": 4,
 "nbformat_minor": 0
}
