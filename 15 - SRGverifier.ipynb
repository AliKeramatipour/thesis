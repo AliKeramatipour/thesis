{
 "cells": [
  {
   "cell_type": "code",
   "execution_count": 19,
   "metadata": {
    "collapsed": true
   },
   "outputs": [
    {
     "name": "stdout",
     "output_type": "stream",
     "text": [
      "True\n"
     ]
    }
   ],
   "source": [
    "import pandas as pd\n",
    "import numpy as np\n",
    "\n",
    "adj_matrix = pd.read_csv('srgs_csvs/srgN27L10M8.csv', header=None, sep=';').values\n",
    "adj_matrix = adj_matrix[1:, 1:]\n",
    "adj_matrix = adj_matrix.astype(int)\n",
    "\n",
    "degrees = np.sum(adj_matrix, axis=1)\n",
    "are_all_same = np.all(degrees == degrees[0])\n",
    "print(are_all_same)\n"
   ]
  },
  {
   "cell_type": "code",
   "execution_count": 20,
   "metadata": {
    "collapsed": false
   },
   "outputs": [],
   "source": [
    "n = len(adj_matrix)\n",
    "for i in range(n):\n",
    "    for j in range(n):\n",
    "        if i == j:\n",
    "            continue\n",
    "        shared_neighbours = np.sum(adj_matrix[i] & adj_matrix[j])\n",
    "        if adj_matrix[i][j] == 1 and shared_neighbours != 10:\n",
    "            print(f\"{shared_neighbours} vertices {i} and {j} error\")\n",
    "        if adj_matrix[i][j] == 0 and shared_neighbours != 8:\n",
    "            print(f\"{shared_neighbours} vertices {i} and {j} error\")"
   ]
  },
  {
   "cell_type": "code",
   "execution_count": 20,
   "metadata": {
    "collapsed": false
   },
   "outputs": [],
   "source": []
  }
 ],
 "metadata": {
  "kernelspec": {
   "display_name": "Python 3",
   "language": "python",
   "name": "python3"
  },
  "language_info": {
   "codemirror_mode": {
    "name": "ipython",
    "version": 2
   },
   "file_extension": ".py",
   "mimetype": "text/x-python",
   "name": "python",
   "nbconvert_exporter": "python",
   "pygments_lexer": "ipython2",
   "version": "2.7.6"
  }
 },
 "nbformat": 4,
 "nbformat_minor": 0
}
