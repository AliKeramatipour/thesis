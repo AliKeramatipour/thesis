{
 "cells": [
  {
   "cell_type": "code",
   "execution_count": null,
   "metadata": {
    "collapsed": true
   },
   "outputs": [],
   "source": [
    "import sys\n",
    "import numpy as np\n",
    "\n",
    "def generate_vectors():\n",
    "    vectors = []\n",
    "    vector = [0] * 11\n",
    "    vectors.append(vector.copy())\n",
    "    for i in range(11):\n",
    "        vector = [0] * 11\n",
    "        vector[i] = 1\n",
    "        vectors.append(vector.copy())\n",
    "        vector[i] = 2\n",
    "        vectors.append(vector.copy())\n",
    "\n",
    "    for i in range(11):\n",
    "        for j in range(i + 1, 11):\n",
    "            vector = [0] * 11\n",
    "            vector[i] = 1\n",
    "            vector[j] = 1\n",
    "            vectors.append(vector.copy())\n",
    "            vector[i] = 1\n",
    "            vector[j] = 2\n",
    "            vectors.append(vector.copy())\n",
    "            vector[i] = 2\n",
    "            vector[j] = 1\n",
    "            vectors.append(vector.copy())\n",
    "            vector[i] = 2\n",
    "            vector[j] = 2\n",
    "            vectors.append(vector.copy())\n",
    "    return vectors\n",
    "\n",
    "def count_non_equal_elements(vector1, vector2):\n",
    "    count = 0\n",
    "    for i in range(11):\n",
    "        if vector1[i] != vector2[i]:\n",
    "            count += 1\n",
    "    return count\n",
    "\n",
    "main_vecs = generate_vectors()"
   ]
  },
  {
   "cell_type": "code",
   "execution_count": null,
   "metadata": {
    "collapsed": false
   },
   "outputs": [],
   "source": [
    "matrix = [\n",
    "    [1, 1, 1, 1, 1],\n",
    "    [1, 1, 2, 2, 0],\n",
    "    [1, 2, 1, 0, 2],\n",
    "    [2, 1, 0, 1, 2],\n",
    "    [2, 0, 1, 2, 1],\n",
    "    [0, 2, 2, 1, 1]\n",
    "]\n",
    "\n",
    "identity_matrix = [[1 if i == j else 0 for i in range(6)] for j in range(6)]\n",
    "\n",
    "result = [identity_matrix[i] + matrix[i] for i in range(6)]\n",
    "for i in result:\n",
    "    print(i)"
   ]
  },
  {
   "cell_type": "code",
   "execution_count": null,
   "metadata": {
    "collapsed": false
   },
   "outputs": [],
   "source": [
    "ternary_vectors = [[i, j, k, l, m, n] for i in range(3) for j in range(3) for k in range(3) for l in range(3) for m in range(3) for n in range(3)]\n",
    "\n",
    "result_array = np.array(result)\n",
    "codewords = []\n",
    "only_adds = []\n",
    "for vector in ternary_vectors:\n",
    "    vector_array = np.array(vector).reshape(6, 1)\n",
    "    parity = np.matmul(vector_array.transpose(), matrix)\n",
    "    codeword = np.matmul(vector_array.transpose(), result_array)\n",
    "    codeword = np.mod(codeword, 3)\n",
    "    codewords.append(codeword.flatten())\n",
    "    only_adds.append(parity)"
   ]
  },
  {
   "cell_type": "code",
   "execution_count": null,
   "metadata": {
    "collapsed": false
   },
   "outputs": [],
   "source": [
    "def are_neighbours(v1, v2):\n",
    "    for i in range(11):\n",
    "        new_v = v1.copy()\n",
    "        new_v[i] = (new_v[i] + 1) % 3\n",
    "        if is_codeword_difference(new_v, v2):\n",
    "            return True\n",
    "        new_v[i] = (new_v[i] + 1) % 3\n",
    "        if is_codeword_difference(new_v, v2):\n",
    "            return True\n",
    "    return False\n",
    "\n",
    "def is_codeword_difference(v1, v2):\n",
    "    dif = tuple((v2[i] - v1[i] + 3) % 3 for i in range(11))\n",
    "    return dif in codewords_set\n",
    "\n",
    "codewords_set = set(tuple(codeword) for codeword in codewords)\n",
    "# print(codewords[1])"
   ]
  },
  {
   "cell_type": "code",
   "execution_count": null,
   "metadata": {
    "collapsed": false
   },
   "outputs": [],
   "source": [
    "v = [1, 1, 0, 0, 0, 0, 0, 0, 0, 0, 0]\n",
    "Neigh = np.zeros((243, 243))\n",
    "for idv in range(len(main_vecs)):\n",
    "    v = main_vecs[idv]\n",
    "    cnt = 0\n",
    "    for idu in range(len(main_vecs)):\n",
    "        u = main_vecs[idu]\n",
    "        if are_neighbours(v,u):\n",
    "            Neigh[idv][idu] = 1\n",
    "            Neigh[idu][idv] = 1\n",
    "            cnt += 1\n",
    "\n",
    "for i in range(243):\n",
    "    for j in range(243):\n",
    "        row1 = Neigh[i, :]\n",
    "        row2 = Neigh[j, :]\n",
    "        row_and = np.logical_and(row1, row2)\n",
    "        count_ones = np.count_nonzero(row_and)\n",
    "        if Neigh[i][j] == 0 and i != j:\n",
    "            if count_ones != 2:\n",
    "                print(\"WTFFF\")\n",
    "            # print(f\"{count_ones} shared neigbours for {i} and {j}\")"
   ]
  },
  {
   "cell_type": "code",
   "execution_count": null,
   "metadata": {
    "collapsed": false
   },
   "outputs": [],
   "source": [
    "someWord = codewords[100]\n",
    "parity_check = [\n",
    "    [2, 2, 2, 1, 1, 0],\n",
    "    [2, 2, 1, 2, 0, 1],\n",
    "    [2, 1, 2, 0, 2, 1],\n",
    "    [2, 1, 0, 2, 1, 2],\n",
    "    [2, 0, 1, 1, 2, 2]\n",
    "]\n",
    "\n",
    "identity_matrix = [[1 if i == j else 0 for i in range(5)] for j in range(5)]\n",
    "result = [parity_check[i] + identity_matrix[i] for i in range(5)]\n",
    "result_array = np.array(result)\n",
    "someWord = someWord + [1, 1, 0, 0, 0, 0, 0, 0, 0, 0, 0]\n",
    "print(result_array)\n",
    "for i in range(len(result_array)):\n",
    "    for j in range(len(result_array[i])):\n",
    "        print(f\"{result_array[i][j]} & \",end='')\n",
    "    print()\n",
    "res = np.matmul(result_array, someWord)\n",
    "for i in range(len(res)):\n",
    "    res[i] = res[i] % 3\n",
    "print(res)"
   ]
  },
  {
   "cell_type": "code",
   "execution_count": null,
   "metadata": {
    "collapsed": false
   },
   "outputs": [],
   "source": []
  }
 ],
 "metadata": {
  "kernelspec": {
   "display_name": "Python 3",
   "language": "python",
   "name": "python3"
  },
  "language_info": {
   "codemirror_mode": {
    "name": "ipython",
    "version": 2
   },
   "file_extension": ".py",
   "mimetype": "text/x-python",
   "name": "python",
   "nbconvert_exporter": "python",
   "pygments_lexer": "ipython2",
   "version": "2.7.6"
  }
 },
 "nbformat": 4,
 "nbformat_minor": 0
}
