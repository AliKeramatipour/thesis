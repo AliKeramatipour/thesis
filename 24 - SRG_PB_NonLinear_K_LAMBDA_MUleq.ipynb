{
 "cells": [
  {
   "cell_type": "code",
   "execution_count": null,
   "id": "bcf6a54d",
   "metadata": {},
   "outputs": [],
   "source": [
    "import itertools\n",
    "import subprocess\n",
    "from collections import defaultdict\n",
    "import math\n",
    "import time"
   ]
  },
  {
   "cell_type": "code",
   "execution_count": null,
   "id": "82039a9f",
   "metadata": {},
   "outputs": [],
   "source": [
    "var_dict = {}\n",
    "rev_dict = {}\n",
    "last_id = 1\n",
    "product_num = 0"
   ]
  },
  {
   "cell_type": "code",
   "execution_count": null,
   "id": "a7240a80",
   "metadata": {},
   "outputs": [],
   "source": [
    "def parse_edge_string(edge_string):\n",
    "    edge_string = edge_string.strip().strip(\"e_{\").strip(\"}\")\n",
    "    i, j = map(int, edge_string.split(\",\"))\n",
    "    return (i, j)"
   ]
  },
  {
   "cell_type": "code",
   "execution_count": null,
   "id": "f0910bd6",
   "metadata": {},
   "outputs": [],
   "source": [
    "def add_var_id(x, old_id=None):\n",
    "    global last_id, var_dict, rev_dict\n",
    "    xlast_id = 'x' + str(last_id)\n",
    "    if old_id != None:\n",
    "        var_dict[x] = old_id\n",
    "        return\n",
    "    var_dict[x] = xlast_id\n",
    "    x = x + '}'\n",
    "    x = x[0] + '_{' + x[1:]\n",
    "    rev_dict[xlast_id] = x\n",
    "    rev_dict['-' + xlast_id] = x\n",
    "    last_id += 1\n",
    "    return xlast_id"
   ]
  },
  {
   "cell_type": "code",
   "execution_count": null,
   "id": "889e8e1f",
   "metadata": {},
   "outputs": [],
   "source": [
    "# k clause must be true\n",
    "def generate_clauses(edge, la, mu, triangles, angles):\n",
    "    clauses = []\n",
    "    clauses.append( f\"-{mu} {edge} \" + \" \".join([f\"-1 {x}\" for x in angles]) + f\" >= -{mu}\" )\n",
    "    clauses.append( f\"-{la} {edge} \" + \" \".join([f\"+1 {x}\" for x in triangles]) + f\" = 0\" )\n",
    "    return clauses"
   ]
  },
  {
   "cell_type": "code",
   "execution_count": null,
   "id": "6dd84ab2",
   "metadata": {},
   "outputs": [],
   "source": [
    "def srg(n, K, la, mu):\n",
    "    clauses = []\n",
    "    \n",
    "    for i, j in itertools.combinations(range(n), 2):\n",
    "        edge_id = add_var_id(f\"e{i},{j}\")\n",
    "        add_var_id(f\"e{j},{i}\", edge_id)\n",
    "    for i in range(n):\n",
    "        for j in range(i + 1, n):\n",
    "            edge = var_dict[f\"e{i},{j}\"]\n",
    "            la_clause = f\"-{la} {edge}\"\n",
    "            mu_clause = f\"+{mu} {edge}\"\n",
    "            for k in range(n):\n",
    "                if k == i or k == j:\n",
    "                    continue\n",
    "                edge_1 = var_dict[f\"e{i},{k}\"]\n",
    "                edge_2 = var_dict[f\"e{k},{j}\"]\n",
    "                la_clause = la_clause + f\" +1 {edge} {edge_1} {edge_2}\"\n",
    "                product_num += 1\n",
    "                mu_clause = mu_clause + f\" +1 {edge_1} {edge_2} -1 {edge} {edge_1} {edge_2}\"\n",
    "                product_num += 1\n",
    "            la_clause += f\" = 0\"\n",
    "            mu_clause += f\" = {mu}\"\n",
    "            clauses.append(la_clause)\n",
    "            clauses.append(mu_clause)\n",
    "    # regularity\n",
    "    for i in range(n):\n",
    "        clause = \"\"\n",
    "        for j in range(n):\n",
    "            if j == i:\n",
    "                continue\n",
    "            e = var_dict[f\"e{i},{j}\"]\n",
    "            clause = clause + f\"+1 {e} \"\n",
    "        clause = clause + f\"= {K}\"\n",
    "        clauses.append(clause)\n",
    "    return clauses"
   ]
  },
  {
   "cell_type": "code",
   "execution_count": null,
   "id": "cd02ccde",
   "metadata": {},
   "outputs": [],
   "source": [
    "def clause_to_opb(clauses):\n",
    "    # variables numbers, number of constraints, number of products, number of variables appearing in a prodcut\n",
    "    pb_str = f\"* #variable= {last_id - 1} #constraint= {len(clauses)} #product= {product_num} sizeproduct= {last_id - 1}\\nmin: ;\\n\"\n",
    "    print(last_id - 1, len(clauses))\n",
    "    pb_str = pb_str + ';\\n'.join(clauses) + ';\\n'\n",
    "    with open(f'srgs_opbs/NONLinearsrgN{N}K{K}L{LAMBDA}M{MU}.opb', 'w') as f:\n",
    "        f.write(pb_str)\n",
    "    print(\"should be done ...\")\n",
    "    return pb_str"
   ]
  },
  {
   "cell_type": "code",
   "execution_count": null,
   "id": "5a6c90fb",
   "metadata": {},
   "outputs": [],
   "source": [
    "N, K, LAMBDA, MU = 27, 16, 10, 8\n",
    "c = srg(N,K, LAMBDA, MU)\n",
    "opb_file = clause_to_opb(c)"
   ]
  },
  {
   "cell_type": "code",
   "execution_count": null,
   "id": "0db35db4",
   "metadata": {},
   "outputs": [],
   "source": [
    "def run_clasp(opb_file):\n",
    "    with open(opb_file, \"rb\") as f:\n",
    "        opb_contents = f.read()\n",
    "    result = subprocess.run(['/usr/local/bin/clasp'], input=opb_contents, stdout=subprocess.PIPE, stderr=subprocess.PIPE)\n",
    "    output = result.stdout.decode('utf-8')\n",
    "    return output"
   ]
  },
  {
   "cell_type": "code",
   "execution_count": null,
   "id": "41129a8d",
   "metadata": {},
   "outputs": [],
   "source": [
    "def parse_clasp_output(output):\n",
    "    lines = output.strip().split(\"\\n\")\n",
    "    solution = []\n",
    "    for line in lines:\n",
    "        if line.startswith(\"v\"):\n",
    "            variables = line[2:].split()\n",
    "            for var in variables:\n",
    "                solution.append(var)\n",
    "    return solution"
   ]
  },
  {
   "cell_type": "code",
   "execution_count": null,
   "id": "55e8c0c7",
   "metadata": {},
   "outputs": [],
   "source": [
    "# Run clasp and parse the output\n",
    "start_time = time.time()\n",
    "opb_file = f\"srgs_opbs/srgN{N}K{K}L{LAMBDA}M{MU}.opb\"\n",
    "output = run_clasp(opb_file)\n",
    "solution = parse_clasp_output(output)\n",
    "edges_list = []\n",
    "# Print the solution\n",
    "if len(solution) == 0:\n",
    "    print(\"UNSATISFIABLE\")\n",
    "else:\n",
    "    for var in solution:\n",
    "        if var.startswith('x'):\n",
    "            res = rev_dict[var]\n",
    "            if res.startswith('e'):\n",
    "                edges_list.append(parse_edge_string(res))"
   ]
  },
  {
   "cell_type": "code",
   "execution_count": null,
   "id": "d2d73bc0",
   "metadata": {},
   "outputs": [],
   "source": [
    "def check_srg(N, LAMBDA, MU, edges_list):\n",
    "    adjacency_list = defaultdict(set)\n",
    "    degrees = defaultdict(int)\n",
    "    for u, v in edges_list:\n",
    "        adjacency_list[u].add(v)\n",
    "        adjacency_list[v].add(u)\n",
    "        degrees[u] += 1\n",
    "        degrees[v] += 1\n",
    "\n",
    "    k = degrees[1]\n",
    "    print(\"Regularity found is\", k, \"is \", K)\n",
    "    if not all(degree == k for degree in degrees.values()):\n",
    "        return False\n",
    "\n",
    "    for u, v in edges_list:\n",
    "        common_neighbors = adjacency_list[u] & adjacency_list[v]\n",
    "        if len(common_neighbors) != LAMBDA:\n",
    "            return False\n",
    "\n",
    "    for u in range(N):\n",
    "        for v in range(u + 1, N):\n",
    "            if (u, v) not in edges_list and (v, u) not in edges_list:\n",
    "                common_neighbors = adjacency_list[u] & adjacency_list[v]\n",
    "                if len(common_neighbors) != MU:\n",
    "                    return False\n",
    "\n",
    "    return True"
   ]
  },
  {
   "cell_type": "code",
   "execution_count": null,
   "id": "7c823f2b",
   "metadata": {},
   "outputs": [],
   "source": [
    "def graph_to_csv(n, edges):\n",
    "    header = \";\" + \";\".join(str(i) for i in range(n)) + \"\\n\"\n",
    "    row_strings = []\n",
    "    for i in range(n):\n",
    "        row = [str(i)] + [\"0\" if (i, j) not in edges and (j, i) not in edges else \"1\" for j in range(n)]\n",
    "        row_strings.append(\";\".join(row) + \"\\n\")\n",
    "    csv_content = header + \"\".join(row_strings)\n",
    "    with open(f\"srgs_csvs/srgN{N}K{K}L{LAMBDA}M{MU}.csv\", \"w\") as file:\n",
    "        file.write(csv_content)"
   ]
  },
  {
   "cell_type": "code",
   "execution_count": null,
   "id": "71bb0038",
   "metadata": {},
   "outputs": [],
   "source": [
    "if check_srg(N, LAMBDA, MU, edges_list):\n",
    "    print(\"Result is strongly regular\")\n",
    "    graph_to_csv(N, edges_list)\n",
    "elif len(edges_list) == 0:\n",
    "    print(\"UNSATISFIABLE\")\n",
    "else:\n",
    "    print(\"Wrong result has been generated.\")\n",
    "end_time = time.time()\n",
    "execution_time = end_time - start_time\n",
    "print(execution_time)"
   ]
  }
 ],
 "metadata": {
  "kernelspec": {
   "display_name": "Python 3 (ipykernel)",
   "language": "python",
   "name": "python3"
  },
  "language_info": {
   "codemirror_mode": {
    "name": "ipython",
    "version": 3
   },
   "file_extension": ".py",
   "mimetype": "text/x-python",
   "name": "python",
   "nbconvert_exporter": "python",
   "pygments_lexer": "ipython3",
   "version": "3.10.11"
  }
 },
 "nbformat": 4,
 "nbformat_minor": 5
}
