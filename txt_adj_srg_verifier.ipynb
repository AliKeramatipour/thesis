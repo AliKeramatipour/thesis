{
 "cells": [
  {
   "cell_type": "code",
   "execution_count": 1,
   "id": "f7dc77c9",
   "metadata": {},
   "outputs": [
    {
     "name": "stdout",
     "output_type": "stream",
     "text": [
      "9, 4, 1, 2 is verified.\n",
      "28, 15, 6, 10 is verified.\n",
      "16, 10, 6, 6 is verified.\n",
      "16, 6, 2, 2 is verified.\n",
      "26, 10, 3, 4 is verified.\n",
      "49, 12, 5, 2 is verified.\n",
      "21, 10, 3, 6 is verified.\n",
      "21, 10, 5, 4 is verified.\n",
      "10, 6, 3, 4 is verified.\n",
      "36, 14, 7, 4 is verified.\n",
      "16, 5, 0, 2 is verified.\n",
      "15, 8, 4, 4 is verified.\n",
      "64, 14, 6, 2 is verified.\n",
      "17, 8, 3, 4 is verified.\n",
      "27, 16, 10, 8 is verified.\n",
      "25, 12, 5, 6 is verified.\n",
      "25, 16, 9, 12 is verified.\n",
      "27, 10, 1, 5 is verified.\n",
      "16, 9, 4, 6 is verified.\n",
      "56, 10, 0, 2 is verified.\n",
      "15, 6, 1, 3 is verified.\n",
      "26, 15, 8, 9 is verified.\n",
      "5, 2, 0, 1 is verified.\n",
      "50, 7, 0, 1 is verified.\n",
      "45, 16, 8, 4 is verified.\n",
      "25, 8, 3, 2 is verified.\n",
      "28, 12, 6, 4 is verified.\n",
      "13, 6, 2, 3 is verified.\n",
      "36, 10, 4, 2 is verified.\n",
      "10, 3, 0, 1 is verified.\n"
     ]
    }
   ],
   "source": [
    "import csv\n",
    "import os\n",
    "import re\n",
    "\n",
    "def verify_adj(adjacency_matrix, N, K, LAMBDA, MU):\n",
    "    if len(adjacency_matrix) != N:\n",
    "        return False\n",
    "    for i in range(N):\n",
    "        deg = adjacency_matrix[i].count(1)\n",
    "        if deg != K:\n",
    "            return False\n",
    "        if len(adjacency_matrix[i]) != N:\n",
    "            return False\n",
    "        \n",
    "        for j in range(i + 1, N):\n",
    "            row1 = adjacency_matrix[i]\n",
    "            row2 = adjacency_matrix[j]\n",
    "            num_ones = 0\n",
    "            for k in range(len(row1)):\n",
    "                if row1[k] == 1 and row2[k] == 1:\n",
    "                    num_ones += 1\n",
    "            if adjacency_matrix[i][j] == 1 and num_ones != LAMBDA:\n",
    "                return False\n",
    "            if adjacency_matrix[i][j] == 0 and num_ones != MU:\n",
    "                return False\n",
    "    return True\n",
    "        \n",
    "folder_path = 'srgs_txts'\n",
    "for file_name in os.listdir(folder_path):\n",
    "    file_path = os.path.join(folder_path, file_name)\n",
    "    N, K, LAMBDA, MU = [int(match) for match in re.findall(r'\\d+', file_name)]\n",
    "    file = open(file_path, 'r')\n",
    "    adjacency_matrix = []\n",
    "    for line in file:\n",
    "        line = line.strip()\n",
    "        row = [int(char) for char in line]\n",
    "        adjacency_matrix.append(row)\n",
    "    file.close()\n",
    "    if verify_adj(adjacency_matrix, N, K, LAMBDA, MU):\n",
    "        print(f'{N}, {K}, {LAMBDA}, {MU} is verified.')\n",
    "    else:\n",
    "        print(f'{N}, {K}, {LAMBDA}, {MU} is not an srg.')\n",
    "    \n"
   ]
  }
 ],
 "metadata": {
  "kernelspec": {
   "display_name": "Python 3 (ipykernel)",
   "language": "python",
   "name": "python3"
  },
  "language_info": {
   "codemirror_mode": {
    "name": "ipython",
    "version": 3
   },
   "file_extension": ".py",
   "mimetype": "text/x-python",
   "name": "python",
   "nbconvert_exporter": "python",
   "pygments_lexer": "ipython3",
   "version": "3.10.11"
  }
 },
 "nbformat": 4,
 "nbformat_minor": 5
}
