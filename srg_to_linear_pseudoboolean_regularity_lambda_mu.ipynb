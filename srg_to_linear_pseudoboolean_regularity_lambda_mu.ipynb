{
 "cells": [
  {
   "cell_type": "code",
   "execution_count": null,
   "id": "ec296056",
   "metadata": {},
   "outputs": [],
   "source": [
    "import itertools\n",
    "import subprocess\n",
    "from collections import defaultdict\n",
    "import math\n",
    "import time\n",
    "import sys"
   ]
  },
  {
   "cell_type": "code",
   "execution_count": null,
   "id": "bede5a2b",
   "metadata": {},
   "outputs": [],
   "source": [
    "var_dict = {}\n",
    "rev_dict = {}\n",
    "last_id = 1"
   ]
  },
  {
   "cell_type": "code",
   "execution_count": null,
   "id": "5041ed1d",
   "metadata": {},
   "outputs": [],
   "source": [
    "def parse_edge_string(edge_string):\n",
    "    edge_string = edge_string.strip().strip(\"e_{\").strip(\"}\")\n",
    "    i, j = map(int, edge_string.split(\",\"))\n",
    "    return (i, j)"
   ]
  },
  {
   "cell_type": "code",
   "execution_count": null,
   "id": "cef1a381",
   "metadata": {},
   "outputs": [],
   "source": [
    "def add_var_id(x, old_id=None):\n",
    "    global last_id, var_dict, rev_dict\n",
    "    xlast_id = 'x' + str(last_id)\n",
    "    if old_id != None:\n",
    "        var_dict[x] = old_id\n",
    "        return\n",
    "    var_dict[x] = xlast_id\n",
    "    x = x + '}'\n",
    "    x = x[0] + '_{' + x[1:]\n",
    "    rev_dict[xlast_id] = x\n",
    "    rev_dict['-' + xlast_id] = x\n",
    "    last_id += 1\n",
    "    return xlast_id"
   ]
  },
  {
   "cell_type": "code",
   "execution_count": null,
   "id": "8caec9e5",
   "metadata": {},
   "outputs": [],
   "source": [
    "def generate_clauses(edge, la, mu, triangles, angles):\n",
    "    clauses = []\n",
    "    clauses.append( f\"+{mu} {edge} \" + \" \".join([f\"+1 {x}\" for x in angles]) + f\" = {mu}\" )\n",
    "    clauses.append( f\"-{la} {edge} \" + \" \".join([f\"+1 {x}\" for x in triangles]) + f\" = 0\" )\n",
    "    return clauses"
   ]
  },
  {
   "cell_type": "code",
   "execution_count": null,
   "id": "13f73ad6",
   "metadata": {},
   "outputs": [],
   "source": [
    "def srg(n, K, la, mu):\n",
    "    angle = [[set() for j in range(n)] for i in range(n)]\n",
    "    triangle = [[set() for j in range(n)] for i in range(n)]\n",
    "    clauses = []\n",
    "    \n",
    "    for i, j in itertools.combinations(range(n), 2):\n",
    "        edge_id = add_var_id(f\"e{i},{j}\")\n",
    "        add_var_id(f\"e{j},{i}\", edge_id)\n",
    "    \n",
    "    # generate angle literals\n",
    "    for i, j in itertools.combinations(range(n), 2):\n",
    "        for k in range(n):\n",
    "            if i == k or j == k:\n",
    "                continue\n",
    "            \n",
    "            edge_0 = var_dict[f\"e{i},{j}\"]\n",
    "            edge_1 = var_dict[f\"e{i},{k}\"]\n",
    "            edge_2 = var_dict[f\"e{j},{k}\"]\n",
    "            \n",
    "            triangle_id = add_var_id(f\"t{i},{j},{k}\")\n",
    "            triangle[i][j].add(triangle_id)\n",
    "            \n",
    "            angle_id = add_var_id(f\"a{i},{j},{k}\")\n",
    "            angle[i][j].add(angle_id)\n",
    "            \n",
    "            clauses.append(f\"+1 {triangle_id} -1 {edge_0} -1 {edge_1} -1 {edge_2} >= -2\")\n",
    "            clauses.append(f\"-1 {triangle_id} +1 {edge_0} >= 0\")\n",
    "            clauses.append(f\"-1 {triangle_id} +1 {edge_1} >= 0\")\n",
    "            clauses.append(f\"-1 {triangle_id} +1 {edge_2} >= 0\")\n",
    "            \n",
    "            clauses.append(f\"+1 {angle_id} +1 {edge_0} -1 {edge_1} -1 {edge_2} >= -1\")\n",
    "            clauses.append(f\"-1 {angle_id} -1 {edge_0} >= -1\")\n",
    "            clauses.append(f\"-1 {angle_id} +1 {edge_1} >= 0\")\n",
    "            clauses.append(f\"-1 {angle_id} +1 {edge_2} >= 0\")\n",
    "        \n",
    "#     clauses.append(f\"*end of preliminary clauses\")\n",
    "    \n",
    "#     clauses.append(f\"*srg-related clauses\")\n",
    "    for i in range(n):\n",
    "        for j in range(i + 1, n):\n",
    "            edge = var_dict[f\"e{i},{j}\"]\n",
    "            clauses.extend(generate_clauses(edge, la, mu, triangle[i][j], angle[i][j]))\n",
    "    \n",
    "    # regularity clauses\n",
    "    for i in range(n):\n",
    "        clause = \"\"\n",
    "        for j in range(n):\n",
    "            if j == i:\n",
    "                continue\n",
    "            e = var_dict[f\"e{i},{j}\"]\n",
    "            clause = clause + f\"+1 {e} \"\n",
    "        clause = clause + f\"= {K}\"\n",
    "        clauses.append(clause)\n",
    "        \n",
    "    for clause in clauses:\n",
    "        ans = ''.join(clause)\n",
    "        \n",
    "    return clauses"
   ]
  },
  {
   "cell_type": "code",
   "execution_count": null,
   "id": "ce499c39",
   "metadata": {},
   "outputs": [],
   "source": [
    "def clause_to_opb(clauses):\n",
    "    pb_str = f\"* #variable= {last_id - 1} #constraint= {len(clauses)}\\nmin: ;\\n\"\n",
    "    print(last_id - 1, len(clauses))\n",
    "    pb_str = pb_str + ';\\n'.join(clauses) + ';\\n'\n",
    "    with open(f'srg_to_linear_pseudoboolean_regularity_lambda_mu/{N}K{K}L{LAMBDA}M{MU}.opb', 'w') as f:\n",
    "        f.write(pb_str)\n",
    "    print(\"should be done ...\")\n",
    "    return pb_str"
   ]
  },
  {
   "cell_type": "code",
   "execution_count": null,
   "id": "2af378d6",
   "metadata": {},
   "outputs": [],
   "source": [
    "N, K, LAMBDA, MU = int(sys.argv[1]), int(sys.argv[2]), int(sys.argv[3]), int(sys.argv[4])\n",
    "c = srg(N,K, LAMBDA, MU)\n",
    "opb_file = clause_to_opb(c)"
   ]
  },
  {
   "cell_type": "code",
   "execution_count": null,
   "id": "18fd37ea",
   "metadata": {},
   "outputs": [],
   "source": []
  }
 ],
 "metadata": {
  "kernelspec": {
   "display_name": "Python 3 (ipykernel)",
   "language": "python",
   "name": "python3"
  },
  "language_info": {
   "codemirror_mode": {
    "name": "ipython",
    "version": 3
   },
   "file_extension": ".py",
   "mimetype": "text/x-python",
   "name": "python",
   "nbconvert_exporter": "python",
   "pygments_lexer": "ipython3",
   "version": "3.10.11"
  }
 },
 "nbformat": 4,
 "nbformat_minor": 5
}
