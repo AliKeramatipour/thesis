{
 "cells": [
  {
   "cell_type": "markdown",
   "source": [
    "# Aim is to fix some edges, and see if it leads to contradiction\n",
    "We are developing a program to determine if the edges already lead to a contradiction and do not hold the strongly regular properties."
   ],
   "metadata": {
    "collapsed": false
   }
  },
  {
   "cell_type": "code",
   "execution_count": 5,
   "outputs": [],
   "source": [
    "from itertools import combinations"
   ],
   "metadata": {
    "collapsed": false
   }
  },
  {
   "cell_type": "code",
   "execution_count": 6,
   "outputs": [],
   "source": [
    "def add_edge(v,u):\n",
    "    neighbours[v].add(u)\n",
    "    neighbours[u].add(v)\n",
    "    edges.add((u,v))\n",
    "    edges.add((v,u))\n",
    "    check_validity()\n",
    "\n",
    "def check_validity():\n",
    "    for v, u in combinations(vertices, 2):\n",
    "        shared_cnt = len(neighbours[v] & neighbours[u])\n",
    "        if ((u,v) in edges and shared_cnt > 1) or ((u,v) not in edges and shared_cnt > 2):\n",
    "            print(f\" {u} and {v} have led to CONTRADICTION\")\n",
    "            return\n",
    "    return\n",
    "\n",
    "def add_angle(v,u,a):\n",
    "    add_edge(v,a)\n",
    "    add_edge(u,a)"
   ],
   "metadata": {
    "collapsed": false
   }
  },
  {
   "cell_type": "code",
   "execution_count": 7,
   "outputs": [
    {
     "name": "stdout",
     "output_type": "stream",
     "text": [
      "99\n"
     ]
    }
   ],
   "source": [
    "n, k, l, m = 99, 14, 1, 2\n",
    "neighbours = {}\n",
    "edges = set()\n",
    "vertices = set()\n",
    "SRG = [0, 1, 2, 3, 4, (1,3), (1,4), (2,3), (2,4)]\n",
    "for v in SRG:\n",
    "    neighbours[v] = set()\n",
    "    vertices.add(v)\n",
    "    for i in range(5,15):\n",
    "        neighbours[(v,i)] = set()\n",
    "        add_edge(v, (v,i))\n",
    "        vertices.add((v,i))\n",
    "print(len(vertices))"
   ],
   "metadata": {
    "collapsed": false
   }
  },
  {
   "cell_type": "markdown",
   "source": [
    "### Srg pattern"
   ],
   "metadata": {
    "collapsed": false
   }
  },
  {
   "cell_type": "code",
   "execution_count": 8,
   "outputs": [],
   "source": [
    "# srg pattern\n",
    "add_edge(0,1)\n",
    "add_edge(0,2)\n",
    "add_edge(0,3)\n",
    "add_edge(0,4)\n",
    "add_edge(1,2)\n",
    "add_edge(3,4)\n",
    "\n",
    "add_edge(1,(1,3))\n",
    "add_edge(3,(1,3))\n",
    "\n",
    "add_edge(1,(1,4))\n",
    "add_edge(4,(1,4))\n",
    "\n",
    "\n",
    "add_edge(2,(2,3))\n",
    "add_edge(3,(2,3))\n",
    "\n",
    "add_edge(2,(2,4))\n",
    "add_edge(4,(2,4))\n",
    "\n",
    "add_edge((1,3), (1,4))\n",
    "add_edge((1,3), (2,3))\n",
    "add_edge((1,4), (2,4))\n",
    "add_edge((2,3), (2,4))\n",
    "\n",
    "for i in range(5,15,2):\n",
    "    add_edge((0, i), (0, i + 1))\n",
    "for i in range(5,15):\n",
    "    add_edge((0, i),(1,i))\n",
    "    add_edge((0, i),(2,i))\n",
    "    add_edge((0, i),(3,i))\n",
    "    add_edge((0, i),(4,i))\n",
    "\n",
    "add_angle((1,5), (2,5), ((1,3),5))\n",
    "add_angle((4,5), (3,5), ((1,3),6))"
   ],
   "metadata": {
    "collapsed": false
   }
  },
  {
   "cell_type": "code",
   "execution_count": 8,
   "outputs": [],
   "source": [],
   "metadata": {
    "collapsed": false
   }
  }
 ],
 "metadata": {
  "kernelspec": {
   "display_name": "Python 3",
   "language": "python",
   "name": "python3"
  },
  "language_info": {
   "codemirror_mode": {
    "name": "ipython",
    "version": 2
   },
   "file_extension": ".py",
   "mimetype": "text/x-python",
   "name": "python",
   "nbconvert_exporter": "python",
   "pygments_lexer": "ipython2",
   "version": "2.7.6"
  }
 },
 "nbformat": 4,
 "nbformat_minor": 0
}
