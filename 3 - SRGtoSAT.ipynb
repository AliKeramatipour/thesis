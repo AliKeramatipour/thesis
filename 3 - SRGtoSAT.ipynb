{
 "cells": [
  {
   "cell_type": "code",
   "execution_count": null,
   "id": "31a4cc96",
   "metadata": {},
   "outputs": [],
   "source": [
    "import itertools\n",
    "import subprocess\n",
    "from collections import defaultdict\n",
    "import math"
   ]
  },
  {
   "cell_type": "code",
   "execution_count": null,
   "id": "6fe3585b",
   "metadata": {},
   "outputs": [],
   "source": [
    "var_dict = {}\n",
    "rev_dict = {}\n",
    "last_id = 1"
   ]
  },
  {
   "cell_type": "code",
   "execution_count": null,
   "id": "f32f8e3d",
   "metadata": {},
   "outputs": [],
   "source": [
    "def add_var_id(x, old_id=None):\n",
    "    global last_id, var_dict, rev_dict\n",
    "    if old_id != None:\n",
    "        var_dict[x] = old_id\n",
    "        return\n",
    "    var_dict[x] = last_id\n",
    "    x = x + '}'\n",
    "    x = x[0] + '_{' + x[1:]\n",
    "    rev_dict[str(last_id)] = x\n",
    "    rev_dict['-' + str(last_id)] = x\n",
    "    last_id += 1\n",
    "    return str(last_id - 1)"
   ]
  },
  {
   "cell_type": "code",
   "execution_count": null,
   "id": "cca439d5",
   "metadata": {},
   "outputs": [],
   "source": [
    "# k clause must be true\n",
    "def generate_clauses(prefix, k, bool_vars):\n",
    "    clauses = []\n",
    "    bool_list = [x for x in bool_vars]\n",
    "    for combination in itertools.combinations(bool_list, k + 1):\n",
    "        clause = prefix + \" \".join([f\"-{x}\" for x in combination])\n",
    "        clauses.append(clause)\n",
    "    \n",
    "    for combination in itertools.combinations(bool_list, len(bool_list) - k + 1):\n",
    "        clause = prefix + \" \".join([f\"{x}\" for x in combination])\n",
    "        clauses.append(clause)\n",
    "    return clauses"
   ]
  },
  {
   "cell_type": "code",
   "execution_count": null,
   "id": "58ae19b5",
   "metadata": {},
   "outputs": [],
   "source": [
    "def srg(n, la, mu):\n",
    "    angle = [[set() for j in range(n)] for i in range(n)]\n",
    "    clauses = []\n",
    "    \n",
    "    for i, j in itertools.combinations(range(n), 2):\n",
    "        edge_id = add_var_id(f\"e{i},{j}\")\n",
    "        add_var_id(f\"e{j},{i}\", edge_id)\n",
    "    \n",
    "    # generate angle literals\n",
    "    for i, j in itertools.combinations(range(n), 2):\n",
    "        for k in range(n):\n",
    "            if i == k or j == k:\n",
    "                continue\n",
    "            angle_id = add_var_id(f\"t{i},{j},{k}\")\n",
    "            angle[i][j].add(angle_id)\n",
    "            edge_1 = var_dict[f\"e{i},{k}\"]\n",
    "            edge_2 = var_dict[f\"e{j},{k}\"]\n",
    "            clauses.append(f\"{angle_id} -{edge_1} -{edge_2}\")\n",
    "            clauses.append(f\"-{angle_id} {edge_1}\")\n",
    "            clauses.append(f\"-{angle_id} {edge_2}\")\n",
    "    \n",
    "    for i in range(n):\n",
    "        for j in range(i + 1, n):\n",
    "            edge = var_dict[f\"e{i},{j}\"]\n",
    "            clauses.extend(generate_clauses(f\"-{edge} \", la, angle[i][j]))\n",
    "    \n",
    "    for i in range(n):\n",
    "        for j in range(i + 1, n):\n",
    "            edge = var_dict[f\"e{i},{j}\"]\n",
    "            clauses.extend(generate_clauses(f\"{edge} \", mu, angle[i][j]))\n",
    "    for clause in clauses:\n",
    "        ans = ''.join(clause)\n",
    "    return clauses"
   ]
  },
  {
   "cell_type": "code",
   "execution_count": null,
   "id": "d9306e09",
   "metadata": {},
   "outputs": [],
   "source": [
    "def clause_to_cnf(clauses):\n",
    "    cnf_file = \"p cnf {} {}\\n\".format(last_id - 1,len(clauses))\n",
    "\n",
    "    for s in clauses:\n",
    "        cnf_file = cnf_file + s + ' 0\\n'\n",
    "    with open(f'srgs_cnfs/srgN{N}L{LAMBDA}M{MU}.cnf', 'w') as f:\n",
    "        f.write(cnf_file)\n",
    "    return cnf_file"
   ]
  },
  {
   "cell_type": "code",
   "execution_count": null,
   "id": "c62e0f23",
   "metadata": {},
   "outputs": [],
   "source": [
    "def clause_count(N, MU, LAMBDA):\n",
    "    term1 = math.comb(N - 2, MU - 1)\n",
    "    term2 = math.comb(N - 2, MU + 1)\n",
    "    term3 = math.comb(N - 2, LAMBDA + 1)\n",
    "    term4 = math.comb(N - 2, LAMBDA - 1)\n",
    "\n",
    "    result = term1 + term2 + term3 + term4\n",
    "    result *= math.comb(N, 2)\n",
    "\n",
    "    return result"
   ]
  },
  {
   "cell_type": "code",
   "execution_count": null,
   "id": "b8b803e7",
   "metadata": {
    "scrolled": true
   },
   "outputs": [],
   "source": [
    "N, LAMBDA, MU = 9, 1, 2\n",
    "print(clause_count(N, MU, LAMBDA)/1e8)"
   ]
  },
  {
   "cell_type": "code",
   "execution_count": null,
   "id": "7393db76",
   "metadata": {},
   "outputs": [],
   "source": [
    "c = srg(N, LAMBDA, MU)\n",
    "cnf_file = clause_to_cnf(c)"
   ]
  },
  {
   "cell_type": "code",
   "execution_count": null,
   "id": "7e616ed0",
   "metadata": {
    "scrolled": false
   },
   "outputs": [],
   "source": [
    "# Run CaDiCaL with the input file and capture the output and any errors\n",
    "result = subprocess.run(['/usr/local/bin/cadical'], input=cnf_file.encode('utf-8'), stdout=subprocess.PIPE, stderr=subprocess.PIPE)\n",
    "edges_list = []\n",
    "output = result.stdout.decode('utf-8')\n",
    "v_lines = [line for line in output.split('\\n') if line.startswith('v')]\n",
    "ans = '\\n'.join(v_lines)\n",
    "ans = ans.replace('v','')\n",
    "ans = ans.replace('\\n','')\n",
    "numbers_list = [int(num) for num in ans.split()]\n",
    "for num in numbers_list:\n",
    "    if num > 0:\n",
    "        res = rev_dict[str(abs(num))]\n",
    "        if res[0] == 'e':\n",
    "            edges_list.append(parse_edge_string(res))"
   ]
  },
  {
   "cell_type": "code",
   "execution_count": null,
   "id": "b9a42713",
   "metadata": {},
   "outputs": [],
   "source": [
    "def check_srg(N, LAMBDA, MU, edges_list):\n",
    "    adjacency_list = defaultdict(set)\n",
    "    degrees = defaultdict(int)\n",
    "    for u, v in edges_list:\n",
    "        adjacency_list[u].add(v)\n",
    "        adjacency_list[v].add(u)\n",
    "        degrees[u] += 1\n",
    "        degrees[v] += 1\n",
    "\n",
    "    k = degrees[1]\n",
    "    print(\"Regularity found is\", k)\n",
    "    if not all(degree == k for degree in degrees.values()):\n",
    "        return False\n",
    "\n",
    "    for u, v in edges_list:\n",
    "        common_neighbors = adjacency_list[u] & adjacency_list[v]\n",
    "        if len(common_neighbors) != LAMBDA:\n",
    "            return False\n",
    "\n",
    "    for u in range(N):\n",
    "        for v in range(u + 1, N):\n",
    "            if (u, v) not in edges_list and (v, u) not in edges_list:\n",
    "                common_neighbors = adjacency_list[u] & adjacency_list[v]\n",
    "                if len(common_neighbors) != MU:\n",
    "                    return False\n",
    "\n",
    "    return True"
   ]
  },
  {
   "cell_type": "code",
   "execution_count": null,
   "id": "22f3ac32",
   "metadata": {},
   "outputs": [],
   "source": [
    "def graph_to_csv(n, edges):\n",
    "    header = \";\" + \";\".join(str(i) for i in range(n)) + \"\\n\"\n",
    "    \n",
    "    row_strings = []\n",
    "    for i in range(n):\n",
    "        row = [str(i)] + [\"0\" if (i, j) not in edges and (j, i) not in edges else \"1\" for j in range(n)]\n",
    "        row_strings.append(\";\".join(row) + \"\\n\")\n",
    "    csv_content = header + \"\".join(row_strings)\n",
    "    \n",
    "    with open(f\"srgs_csvs/srgN{N}L{LAMBDA}M{MU}.csv\", \"w\") as file:\n",
    "        file.write(csv_content)\n",
    "\n",
    "if check_srg(N, LAMBDA, MU, edges_list):\n",
    "    print(\"Result is strongly regular\")\n",
    "elif len(edges_list) == 0:\n",
    "    print(\"UNSATISFIABLE\")\n",
    "else:\n",
    "    print(\"Wrong result has been generated.\")\n",
    "graph_to_csv(N, edges_list)"
   ]
  },
  {
   "cell_type": "code",
   "execution_count": null,
   "id": "9a769c69",
   "metadata": {},
   "outputs": [],
   "source": []
  }
 ],
 "metadata": {
  "kernelspec": {
   "display_name": "Python 3 (ipykernel)",
   "language": "python",
   "name": "python3"
  },
  "language_info": {
   "codemirror_mode": {
    "name": "ipython",
    "version": 3
   },
   "file_extension": ".py",
   "mimetype": "text/x-python",
   "name": "python",
   "nbconvert_exporter": "python",
   "pygments_lexer": "ipython3",
   "version": "3.10.10"
  }
 },
 "nbformat": 4,
 "nbformat_minor": 5
}
